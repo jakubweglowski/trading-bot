{
 "cells": [
  {
   "cell_type": "markdown",
   "metadata": {},
   "source": [
    "# Importy"
   ]
  },
  {
   "cell_type": "code",
   "execution_count": 87,
   "metadata": {},
   "outputs": [],
   "source": [
    "from warnings import filterwarnings\n",
    "filterwarnings('ignore')\n",
    "\n",
    "from importlib import reload\n",
    "\n",
    "### DataLoader\n",
    "import DataLoader.xAPIConnector\n",
    "reload(DataLoader.xAPIConnector)\n",
    "from DataLoader.xAPIConnector import *\n",
    "\n",
    "import DataLoader.DataLoader\n",
    "reload(DataLoader.DataLoader)\n",
    "from DataLoader.DataLoader import *\n",
    "\n",
    "from DataLoader.config import user_id, pwd\n",
    "\n",
    "\n",
    "### Data\n",
    "import Data.SymbolParser\n",
    "reload(Data.SymbolParser)\n",
    "from Data.SymbolParser import parse_symbols\n",
    "\n",
    "\n",
    "### TrendAnalysis\n",
    "import TrendAnalysis.MACD\n",
    "reload(TrendAnalysis.MACD)\n",
    "from TrendAnalysis.MACD import MACD\n",
    "\n",
    "import TrendAnalysis.MA\n",
    "reload(TrendAnalysis.MA)\n",
    "from TrendAnalysis.MA import MA\n",
    "\n",
    "import TrendAnalysis.RSI\n",
    "reload(TrendAnalysis.RSI)\n",
    "from TrendAnalysis.RSI import RSI\n",
    "\n",
    "### MeanRevert\n",
    "import MeanRevert.MeanRevert\n",
    "reload(MeanRevert.MeanRevert)\n",
    "from MeanRevert.MeanRevert import MeanRevert\n",
    "\n",
    "\n",
    "### TechFunctions\n",
    "from TechFunctions.Technicalities import position_encoding"
   ]
  },
  {
   "cell_type": "markdown",
   "metadata": {},
   "source": [
    "# Właściwy kod"
   ]
  },
  {
   "cell_type": "code",
   "execution_count": 89,
   "metadata": {},
   "outputs": [],
   "source": [
    "Symbols = parse_symbols()"
   ]
  },
  {
   "cell_type": "code",
   "execution_count": 90,
   "metadata": {},
   "outputs": [
    {
     "name": "stdout",
     "output_type": "stream",
     "text": [
      "[BŁĄD] Nie pobrano AG.US\n",
      "[BŁĄD] Nie pobrano AYASF.US\n",
      "[BŁĄD] Nie pobrano HL.US\n"
     ]
    }
   ],
   "source": [
    "symbols = Symbols['silver']\n",
    "start, interval = '2020-01-01', '1D'\n",
    "\n",
    "dl = DataLoader(user_id, pwd)\n",
    "data = dl.getData(symbols=symbols, start_date=start, interval=interval, verbose=False)"
   ]
  },
  {
   "cell_type": "markdown",
   "metadata": {},
   "source": [
    "## Podsumowanie generowania sygnałów"
   ]
  },
  {
   "cell_type": "markdown",
   "metadata": {},
   "source": [
    "Umiemy już generować tabele z sygnałami na bazie strategii trend-following i mean-reverting."
   ]
  },
  {
   "cell_type": "code",
   "execution_count": 91,
   "metadata": {},
   "outputs": [
    {
     "name": "stdout",
     "output_type": "stream",
     "text": [
      "Sygnały sell z modelu MA:\n",
      "MAG.US     19\n",
      "SVM.US     15\n",
      "EXK.US     16\n",
      "FSM.US     21\n",
      "ASM.US     17\n",
      "PAAS.US    20\n",
      "WPM.US     24\n",
      "dtype: int64\n",
      "Sygnały sell z modelu MACD:\n",
      "MAG.US     14\n",
      "SVM.US     13\n",
      "EXK.US     15\n",
      "FSM.US     13\n",
      "ASM.US     14\n",
      "PAAS.US    14\n",
      "WPM.US     15\n",
      "dtype: int64\n",
      "Sygnały sell z modelu RSI:\n",
      "MAG.US     4\n",
      "SVM.US     1\n",
      "EXK.US     5\n",
      "FSM.US     7\n",
      "ASM.US     4\n",
      "PAAS.US    4\n",
      "WPM.US     4\n",
      "dtype: int64\n",
      "Sygnały sell z modelu Mean-Revert:\n",
      "MAG.US     58\n",
      "SVM.US     57\n",
      "EXK.US     68\n",
      "FSM.US     61\n",
      "ASM.US     62\n",
      "PAAS.US    56\n",
      "WPM.US     46\n",
      "dtype: int64\n",
      "\n",
      "Sygnały hold z modelu MA:\n",
      "MAG.US     1292\n",
      "SVM.US     1300\n",
      "EXK.US     1298\n",
      "FSM.US     1288\n",
      "ASM.US     1296\n",
      "PAAS.US    1290\n",
      "WPM.US     1282\n",
      "dtype: int64\n",
      "Sygnały hold z modelu MACD:\n",
      "MAG.US     1302\n",
      "SVM.US     1304\n",
      "EXK.US     1300\n",
      "FSM.US     1304\n",
      "ASM.US     1302\n",
      "PAAS.US    1302\n",
      "WPM.US     1300\n",
      "dtype: int64\n",
      "Sygnały hold z modelu RSI:\n",
      "MAG.US     1303\n",
      "SVM.US     1297\n",
      "EXK.US     1295\n",
      "FSM.US     1295\n",
      "ASM.US     1297\n",
      "PAAS.US    1300\n",
      "WPM.US     1297\n",
      "dtype: int64\n",
      "Sygnały hold z modelu Mean-Revert:\n",
      "MAG.US     1218\n",
      "SVM.US     1205\n",
      "EXK.US     1202\n",
      "FSM.US     1204\n",
      "ASM.US     1212\n",
      "PAAS.US    1201\n",
      "WPM.US     1209\n",
      "dtype: int64\n",
      "\n",
      "Sygnały buy z modelu MA:\n",
      "MAG.US     19\n",
      "SVM.US     15\n",
      "EXK.US     16\n",
      "FSM.US     21\n",
      "ASM.US     17\n",
      "PAAS.US    20\n",
      "WPM.US     24\n",
      "dtype: int64\n",
      "Sygnały buy z modelu MACD:\n",
      "MAG.US     14\n",
      "SVM.US     13\n",
      "EXK.US     15\n",
      "FSM.US     13\n",
      "ASM.US     14\n",
      "PAAS.US    14\n",
      "WPM.US     15\n",
      "dtype: int64\n",
      "Sygnały buy z modelu RSI:\n",
      "MAG.US     1\n",
      "SVM.US     7\n",
      "EXK.US     5\n",
      "FSM.US     3\n",
      "ASM.US     5\n",
      "PAAS.US    3\n",
      "WPM.US     4\n",
      "dtype: int64\n",
      "Sygnały buy z modelu Mean-Revert:\n",
      "MAG.US     54\n",
      "SVM.US     68\n",
      "EXK.US     60\n",
      "FSM.US     65\n",
      "ASM.US     56\n",
      "PAAS.US    73\n",
      "WPM.US     75\n",
      "dtype: int64\n",
      "\n"
     ]
    }
   ],
   "source": [
    "for s in [-1.0, 0.0, 1.0]:\n",
    "    s_str = position_encoding[int(s)]\n",
    "    \n",
    "    model = MA(data)\n",
    "    print(f\"Sygnały {s_str} z modelu MA:\\n{(model.Decision()==s).sum()}\")\n",
    "\n",
    "    model = MACD(data)\n",
    "    print(f\"Sygnały {s_str} z modelu MACD:\\n{(model.Decision()==s).sum()}\")\n",
    "\n",
    "    model = RSI(data)\n",
    "    print(f\"Sygnały {s_str} z modelu RSI:\\n{(model.Decision()==s).sum()}\")\n",
    "    \n",
    "    model = MeanRevert(data)\n",
    "    print(f\"Sygnały {s_str} z modelu Mean-Revert:\\n{(model.Decision()==s).sum()}\")\n",
    "    \n",
    "    print()"
   ]
  }
 ],
 "metadata": {
  "kernelspec": {
   "display_name": "Python 3",
   "language": "python",
   "name": "python3"
  },
  "language_info": {
   "codemirror_mode": {
    "name": "ipython",
    "version": 3
   },
   "file_extension": ".py",
   "mimetype": "text/x-python",
   "name": "python",
   "nbconvert_exporter": "python",
   "pygments_lexer": "ipython3",
   "version": "3.11.0"
  }
 },
 "nbformat": 4,
 "nbformat_minor": 2
}
