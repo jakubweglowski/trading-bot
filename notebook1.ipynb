{
 "cells": [
  {
   "cell_type": "markdown",
   "metadata": {},
   "source": [
    "# Importy"
   ]
  },
  {
   "cell_type": "code",
   "execution_count": 66,
   "metadata": {},
   "outputs": [],
   "source": [
    "from warnings import filterwarnings\n",
    "filterwarnings('ignore')\n",
    "\n",
    "from importlib import reload\n",
    "\n",
    "### DataLoader\n",
    "import DataLoader.xAPIConnector\n",
    "reload(DataLoader.xAPIConnector)\n",
    "from DataLoader.xAPIConnector import *\n",
    "\n",
    "import DataLoader.DataLoader\n",
    "reload(DataLoader.DataLoader)\n",
    "from DataLoader.DataLoader import *\n",
    "\n",
    "from DataLoader.config import user_id, pwd\n",
    "\n",
    "\n",
    "### Data\n",
    "import Data.SymbolParser\n",
    "reload(Data.SymbolParser)\n",
    "from Data.SymbolParser import parse_symbols\n",
    "\n",
    "\n",
    "### TrendAnalysis\n",
    "import TrendAnalysis.MACD\n",
    "reload(TrendAnalysis.MACD)\n",
    "from TrendAnalysis.MACD import MACD\n",
    "\n",
    "import TrendAnalysis.MA\n",
    "reload(TrendAnalysis.MA)\n",
    "from TrendAnalysis.MA import MA\n",
    "\n",
    "import TrendAnalysis.RSI\n",
    "reload(TrendAnalysis.RSI)\n",
    "from TrendAnalysis.RSI import RSI\n",
    "\n",
    "### MeanRevert\n",
    "import MeanRevert.MeanRevert\n",
    "reload(MeanRevert.MeanRevert)\n",
    "from MeanRevert.MeanRevert import MeanRevert\n",
    "\n",
    "\n",
    "### TechFunctions\n",
    "from TechFunctions.Technicalities import position_encoding"
   ]
  },
  {
   "cell_type": "markdown",
   "metadata": {},
   "source": [
    "# Właściwy kod"
   ]
  },
  {
   "cell_type": "code",
   "execution_count": 67,
   "metadata": {},
   "outputs": [],
   "source": [
    "Symbols = parse_symbols()"
   ]
  },
  {
   "cell_type": "code",
   "execution_count": 83,
   "metadata": {},
   "outputs": [
    {
     "name": "stdout",
     "output_type": "stream",
     "text": [
      "[BŁĄD] Nie pobrano AG.US\n",
      "[BŁĄD] Nie pobrano AYASF.US\n",
      "[BŁĄD] Nie pobrano HL.US\n"
     ]
    }
   ],
   "source": [
    "symbols = Symbols['silver']\n",
    "start, interval = '2010-01-01', '1D'\n",
    "\n",
    "dl = DataLoader(user_id, pwd)\n",
    "data = dl.getData(symbols=symbols, start_date=start, interval=interval, verbose=False)"
   ]
  },
  {
   "cell_type": "code",
   "execution_count": 84,
   "metadata": {},
   "outputs": [
    {
     "ename": "TypeError",
     "evalue": "RSI.__init__() got an unexpected keyword argument 'alpha_EMA'",
     "output_type": "error",
     "traceback": [
      "\u001b[1;31m---------------------------------------------------------------------------\u001b[0m",
      "\u001b[1;31mTypeError\u001b[0m                                 Traceback (most recent call last)",
      "Cell \u001b[1;32mIn[84], line 7\u001b[0m\n\u001b[0;32m      4\u001b[0m model \u001b[38;5;241m=\u001b[39m MA(data, short_window\u001b[38;5;241m=\u001b[39m\u001b[38;5;241m5\u001b[39m, long_window\u001b[38;5;241m=\u001b[39m\u001b[38;5;241m14\u001b[39m, alpha_EMA\u001b[38;5;241m=\u001b[39m\u001b[38;5;241m0.25\u001b[39m)\n\u001b[0;32m      5\u001b[0m model\u001b[38;5;241m.\u001b[39msaveDecision(\u001b[38;5;124m'\u001b[39m\u001b[38;5;124mMA\u001b[39m\u001b[38;5;124m'\u001b[39m)\n\u001b[1;32m----> 7\u001b[0m model \u001b[38;5;241m=\u001b[39m \u001b[43mRSI\u001b[49m\u001b[43m(\u001b[49m\u001b[43mdata\u001b[49m\u001b[43m,\u001b[49m\u001b[43m \u001b[49m\u001b[43mwindow\u001b[49m\u001b[38;5;241;43m=\u001b[39;49m\u001b[38;5;241;43m10\u001b[39;49m\u001b[43m,\u001b[49m\u001b[43m \u001b[49m\u001b[43malpha_EMA\u001b[49m\u001b[38;5;241;43m=\u001b[39;49m\u001b[38;5;241;43m0.25\u001b[39;49m\u001b[43m)\u001b[49m\n\u001b[0;32m      8\u001b[0m model\u001b[38;5;241m.\u001b[39msaveDecision(\u001b[38;5;124m'\u001b[39m\u001b[38;5;124mRSI\u001b[39m\u001b[38;5;124m'\u001b[39m)\n\u001b[0;32m     10\u001b[0m model \u001b[38;5;241m=\u001b[39m MeanRevert(data)\n",
      "\u001b[1;31mTypeError\u001b[0m: RSI.__init__() got an unexpected keyword argument 'alpha_EMA'"
     ]
    }
   ],
   "source": [
    "model = MACD(data, short_window=5, long_window=12, alpha_EMA=0.25)\n",
    "model.saveDecision('MACD')\n",
    "\n",
    "model = MA(data, short_window=5, long_window=14, alpha_EMA=0.25)\n",
    "model.saveDecision('MA')\n",
    "\n",
    "model = RSI(data, window=10)\n",
    "model.saveDecision('RSI')\n",
    "\n",
    "model = MeanRevert(data)\n",
    "model.saveDecision('MeanRevert')"
   ]
  },
  {
   "cell_type": "markdown",
   "metadata": {},
   "source": [
    "## Podsumowanie generowania sygnałów"
   ]
  },
  {
   "cell_type": "markdown",
   "metadata": {},
   "source": [
    "Umiemy już generować tabele z sygnałami na bazie strategii trend-following i mean-reverting."
   ]
  },
  {
   "cell_type": "code",
   "execution_count": 4,
   "metadata": {},
   "outputs": [
    {
     "name": "stdout",
     "output_type": "stream",
     "text": [
      "Sygnały sell z modelu MA:\n",
      "MAG.US     19\n",
      "SVM.US     15\n",
      "EXK.US     16\n",
      "FSM.US     21\n",
      "ASM.US     17\n",
      "PAAS.US    20\n",
      "WPM.US     24\n",
      "dtype: int64\n",
      "Sygnały sell z modelu MACD:\n",
      "MAG.US     14\n",
      "SVM.US     13\n",
      "EXK.US     15\n",
      "FSM.US     13\n",
      "ASM.US     14\n",
      "PAAS.US    14\n",
      "WPM.US     15\n",
      "dtype: int64\n",
      "Sygnały sell z modelu RSI:\n",
      "MAG.US     4\n",
      "SVM.US     1\n",
      "EXK.US     5\n",
      "FSM.US     7\n",
      "ASM.US     4\n",
      "PAAS.US    4\n",
      "WPM.US     4\n",
      "dtype: int64\n",
      "Sygnały sell z modelu Mean-Revert:\n",
      "MAG.US     58\n",
      "SVM.US     57\n",
      "EXK.US     68\n",
      "FSM.US     61\n",
      "ASM.US     62\n",
      "PAAS.US    56\n",
      "WPM.US     46\n",
      "dtype: int64\n",
      "\n",
      "Sygnały hold z modelu MA:\n",
      "MAG.US     1292\n",
      "SVM.US     1300\n",
      "EXK.US     1298\n",
      "FSM.US     1288\n",
      "ASM.US     1296\n",
      "PAAS.US    1290\n",
      "WPM.US     1282\n",
      "dtype: int64\n",
      "Sygnały hold z modelu MACD:\n",
      "MAG.US     1302\n",
      "SVM.US     1304\n",
      "EXK.US     1300\n",
      "FSM.US     1304\n",
      "ASM.US     1302\n",
      "PAAS.US    1302\n",
      "WPM.US     1300\n",
      "dtype: int64\n",
      "Sygnały hold z modelu RSI:\n",
      "MAG.US     1303\n",
      "SVM.US     1297\n",
      "EXK.US     1295\n",
      "FSM.US     1295\n",
      "ASM.US     1297\n",
      "PAAS.US    1300\n",
      "WPM.US     1297\n",
      "dtype: int64\n",
      "Sygnały hold z modelu Mean-Revert:\n",
      "MAG.US     1218\n",
      "SVM.US     1205\n",
      "EXK.US     1202\n",
      "FSM.US     1204\n",
      "ASM.US     1212\n",
      "PAAS.US    1201\n",
      "WPM.US     1209\n",
      "dtype: int64\n",
      "\n",
      "Sygnały buy z modelu MA:\n",
      "MAG.US     19\n",
      "SVM.US     15\n",
      "EXK.US     16\n",
      "FSM.US     21\n",
      "ASM.US     17\n",
      "PAAS.US    20\n",
      "WPM.US     24\n",
      "dtype: int64\n",
      "Sygnały buy z modelu MACD:\n",
      "MAG.US     14\n",
      "SVM.US     13\n",
      "EXK.US     15\n",
      "FSM.US     13\n",
      "ASM.US     14\n",
      "PAAS.US    14\n",
      "WPM.US     15\n",
      "dtype: int64\n",
      "Sygnały buy z modelu RSI:\n",
      "MAG.US     1\n",
      "SVM.US     7\n",
      "EXK.US     5\n",
      "FSM.US     3\n",
      "ASM.US     5\n",
      "PAAS.US    3\n",
      "WPM.US     4\n",
      "dtype: int64\n",
      "Sygnały buy z modelu Mean-Revert:\n",
      "MAG.US     54\n",
      "SVM.US     68\n",
      "EXK.US     60\n",
      "FSM.US     65\n",
      "ASM.US     56\n",
      "PAAS.US    73\n",
      "WPM.US     75\n",
      "dtype: int64\n",
      "\n"
     ]
    }
   ],
   "source": [
    "for s in [-1.0, 0.0, 1.0]:\n",
    "    s_str = position_encoding[int(s)]\n",
    "    \n",
    "    model = MA(data)\n",
    "    print(f\"Sygnały {s_str} z modelu MA:\\n{(model.Decision()==s).sum()}\")\n",
    "\n",
    "    model = MACD(data)\n",
    "    print(f\"Sygnały {s_str} z modelu MACD:\\n{(model.Decision()==s).sum()}\")\n",
    "\n",
    "    model = RSI(data)\n",
    "    print(f\"Sygnały {s_str} z modelu RSI:\\n{(model.Decision()==s).sum()}\")\n",
    "    \n",
    "    model = MeanRevert(data)\n",
    "    print(f\"Sygnały {s_str} z modelu Mean-Revert:\\n{(model.Decision()==s).sum()}\")\n",
    "    \n",
    "    print()"
   ]
  },
  {
   "cell_type": "code",
   "execution_count": 82,
   "metadata": {},
   "outputs": [
    {
     "data": {
      "text/plain": [
       "<AxesSubplot: xlabel='Date', ylabel='Cumulated profit and loss'>"
      ]
     },
     "execution_count": 82,
     "metadata": {},
     "output_type": "execute_result"
    },
    {
     "data": {
      "image/png": "[encoded data removed]",
      "text/plain": [
       "<Figure size 1000x600 with 1 Axes>"
      ]
     },
     "metadata": {},
     "output_type": "display_data"
    }
   ],
   "source": [
    "from TechFunctions.Technicalities import backtest_strategy\n",
    "\n",
    "model = RSI(data, window=26)\n",
    "\n",
    "symbol = data.columns[0]\n",
    "y = data.loc[:, symbol]\n",
    "signal = model.Decision().loc[:, symbol]\n",
    "\n",
    "data_to_backtest = pd.DataFrame([y, signal]).T.dropna()\n",
    "data_to_backtest.columns = ['price', 'signal']\n",
    "data_to_backtest['sl'] = ((data_to_backtest['signal'] != 0)*1.0).shift(-1)\n",
    "data_to_backtest['tp'] = 0.0\n",
    "\n",
    "backtest_data = backtest_strategy(data_to_backtest, 'price', 'sl', 'tp', 'signal')\n",
    "\n",
    "pnl = pd.Series(backtest_data['pnl'])\n",
    "pnl.index = backtest_data['exit_index']\n",
    "pnl.index.rename('Date', inplace=True)\n",
    "pnl.cumsum().plot(figsize=(10, 6),\n",
    "                  grid=True,\n",
    "                  ylabel='Cumulated profit and loss')"
   ]
  },
  {
   "cell_type": "code",
   "execution_count": null,
   "metadata": {},
   "outputs": [],
   "source": []
  }
 ],
 "metadata": {
  "kernelspec": {
   "display_name": "Python 3",
   "language": "python",
   "name": "python3"
  },
  "language_info": {
   "codemirror_mode": {
    "name": "ipython",
    "version": 3
   },
   "file_extension": ".py",
   "mimetype": "text/x-python",
   "name": "python",
   "nbconvert_exporter": "python",
   "pygments_lexer": "ipython3",
   "version": "3.11.0"
  }
 },
 "nbformat": 4,
 "nbformat_minor": 2
}
