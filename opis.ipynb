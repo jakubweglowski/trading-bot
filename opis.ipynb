{
 "cells": [
  {
   "cell_type": "markdown",
   "metadata": {},
   "source": [
    "# Do zrobienia"
   ]
  },
  {
   "cell_type": "markdown",
   "metadata": {},
   "source": [
    "## Pytanie badawcze"
   ]
  },
  {
   "cell_type": "markdown",
   "metadata": {},
   "source": [
    "1. Czy ceny surowców mają wpływ na wycenę spółek, które je wydobywają?\n",
    "2. Czy wyceny spółek są opóźnione względem cen surówców pod spodem?\n",
    "3. Czy strategia \"mean-reverting\" daje zysk?"
   ]
  },
  {
   "cell_type": "markdown",
   "metadata": {},
   "source": [
    "## W punktach"
   ]
  },
  {
   "cell_type": "markdown",
   "metadata": {},
   "source": [
    "1. Rynek: spółki wydobywające surowce (złoto, srebro, miedź, węgiel) + ceny surowców z XTB\n",
    "2. Jak już będziemy mieli ceny akcji i surowców, sprawdzamy czy surowiec jest w trendzie. Możemy:\n",
    "\n",
    "- wytrenować LSTM na zwrotach (np. predykcja poprzednie 14 dni -> cena jutro), ale tylko dla cen surowców!\n",
    "- porównywać średnie kroczące\n",
    "- C-value, czyli korelacja między [1, 2, ..., n] a [x1, x2, ..., xn]\n",
    "\n",
    "3. Potem bierzemy ceny spółek i patrzymy na różne strategie, w tym:\n",
    "\n",
    "- trend-following\n",
    "- mean-reverting\n",
    "\n",
    "Aplikacja (frontend) - jak zostanie czas"
   ]
  },
  {
   "cell_type": "markdown",
   "metadata": {},
   "source": [
    "## Podział pracy"
   ]
  },
  {
   "cell_type": "markdown",
   "metadata": {},
   "source": [
    "- Kacper: punkt 2.\n",
    "- Kuba Kusyk: punkt 1., czyli lista spółek\n",
    "- Kuba Węg: punkt 3., na razie na losowych spółkach a potem na tych wybranych przez Kubę"
   ]
  }
 ],
 "metadata": {
  "kernelspec": {
   "display_name": "Python 3",
   "language": "python",
   "name": "python3"
  },
  "language_info": {
   "name": "python",
   "version": "3.11.0"
  }
 },
 "nbformat": 4,
 "nbformat_minor": 2
}
