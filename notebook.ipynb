{
 "cells": [
  {
   "cell_type": "code",
   "execution_count": 319,
   "metadata": {},
   "outputs": [],
   "source": [
    "import numpy as np\n",
    "import pandas as pd\n",
    "from datetime import datetime as dt, timedelta as tmd\n",
    "\n",
    "from warnings import filterwarnings\n",
    "filterwarnings('ignore')\n",
    "\n",
    "from importlib import reload\n",
    "import xAPIConnector.xAPIConnector\n",
    "reload(xAPIConnector.xAPIConnector)\n",
    "from xAPIConnector.xAPIConnector import *\n",
    "\n",
    "\n",
    "import xAPIConnector.DataLoader\n",
    "reload(xAPIConnector.DataLoader)\n",
    "from xAPIConnector.DataLoader import *\n",
    "\n",
    "import xAPIConnector.config\n",
    "reload(xAPIConnector.config)\n",
    "from xAPIConnector.config import user_id, pwd"
   ]
  },
  {
   "cell_type": "code",
   "execution_count": 323,
   "metadata": {},
   "outputs": [
    {
     "name": "stdout",
     "output_type": "stream",
     "text": [
      "[2025-01-13 14:25:07.698361] Loguję do API...\n",
      "\tWysyłam zapytanie do API...\n",
      "\tWysyłam zapytanie do API...\n",
      "[2025-01-13 14:25:14.685136] Wylogowuję z API...\n"
     ]
    }
   ],
   "source": [
    "symbols = ['BITCOIN', 'ETHEREUM']\n",
    "start, interval = '2024-12-01 00:00:00', '5min'\n",
    "\n",
    "dl = DataLoader(user_id, pwd)\n",
    "data = dl.getData(symbols=symbols, start_date=start, interval=interval)"
   ]
  },
  {
   "cell_type": "markdown",
   "metadata": {},
   "source": [
    "Klasyfikatory można budować na mnóstwo różnych sposobów. Ogólnie trzeba się zdecydować, na ilu obserwacjach wstecz ma się opierać klasyfikacja. Liczbę tych obserwacji nazwiemy 'window' i przyjmiemy jako parametr.\n",
    "\n",
    "Na razie ustawiamy klasyfikację na podstawie poprzednich 4 godzin.\n",
    "\n",
    "Pierwszy pomysł to klasyfikacja na podstawie stóp zwrotu, klasy również będziemy budować na podstawie stóp zwrotu. Metoda budowania klas zostanie omówiona dalej."
   ]
  },
  {
   "cell_type": "code",
   "execution_count": 324,
   "metadata": {},
   "outputs": [],
   "source": [
    "window = int(4*60/int(interval[:-3]))\n",
    "returnsBTC = data.loc[:, 'BITCOIN'].pct_change().dropna()"
   ]
  },
  {
   "cell_type": "code",
   "execution_count": 325,
   "metadata": {},
   "outputs": [],
   "source": [
    "def generate_X_y(data: pd.DataFrame | pd.Series, window: int, skip: int) -> tuple:   \n",
    "    # można ustawić okna zachodzące (0 < skip < window)\n",
    "    # można ustawić niezachodzące (skip >= window)\n",
    "    assert skip > 0, \"Pętla w kodzie nigdy się nie zakończy...\"\n",
    "    \n",
    "    # Generujemy 'okna'\n",
    "    X = pd.DataFrame(columns=range(window-1))\n",
    "    y = pd.Series()\n",
    "    \n",
    "    i = len(data)\n",
    "    count = 0\n",
    "    while i >= window:\n",
    "        temp_y = data.iloc[i-window:i]\n",
    "        \n",
    "        X.loc[count, :] = temp_y.iloc[:-1].values\n",
    "        y.loc[count] = temp_y.iloc[-1]\n",
    "        \n",
    "        i = i - skip    \n",
    "        count += 1\n",
    "        \n",
    "    return np.array(X), np.array(y)"
   ]
  },
  {
   "cell_type": "markdown",
   "metadata": {},
   "source": [
    "### Regresja logistyczna"
   ]
  },
  {
   "cell_type": "code",
   "execution_count": 326,
   "metadata": {},
   "outputs": [],
   "source": [
    "from sklearn.linear_model import LogisticRegression\n",
    "# from sklearn.model_selection import LeaveOneOut"
   ]
  },
  {
   "cell_type": "markdown",
   "metadata": {},
   "source": [
    "Pierwszy pomysł na zdefiniowanie klas to przyjęcie '1' jeśli stopa zwrotu jest $>threshold$ oraz '0' w p.p.\n",
    "\n",
    "Próg odcięcia można podać jako parametr i już po pierwszych testach widać, że dla prostej klasyfikacji typu \"czy zwrot > 0\" skuteczność jest około $50\\%$. Im wyższy próg, tym lepsza skuteczność."
   ]
  },
  {
   "cell_type": "code",
   "execution_count": 327,
   "metadata": {},
   "outputs": [
    {
     "name": "stdout",
     "output_type": "stream",
     "text": [
      "Skuteczność treningowa modelu: 79.8969%\n"
     ]
    }
   ],
   "source": [
    "skip = window\n",
    "X, y = generate_X_y(data=returnsBTC, window=window, skip=skip)\n",
    "\n",
    "threshold = 0.001\n",
    "y = (np.array(y) > threshold)*1.0\n",
    "\n",
    "clf = LogisticRegression().fit(X, y)\n",
    "print(f\"Skuteczność treningowa modelu: {clf.score(X, y):.4%}\")"
   ]
  },
  {
   "cell_type": "markdown",
   "metadata": {},
   "source": [
    "Teraz podzielimy dane na treningowe i testowe, po czym sprawdzimy jakość predykcji"
   ]
  },
  {
   "cell_type": "code",
   "execution_count": 328,
   "metadata": {},
   "outputs": [
    {
     "name": "stdout",
     "output_type": "stream",
     "text": [
      "[INFO] W zbiorze treningowym znaduje się 135 obserwacji.\n",
      "[INFO] W zbiorze testowym znajduje się 59 obserwacji.\n"
     ]
    }
   ],
   "source": [
    "train_test_ratio = 0.7\n",
    "len_train = int(train_test_ratio*X.shape[0])\n",
    "\n",
    "Xtrain = X[:len_train, :]\n",
    "ytrain = y[:len_train]\n",
    "\n",
    "Xtest = X[len_train:, :]\n",
    "ytest = y[len_train:]\n",
    "\n",
    "print(f\"[INFO] W zbiorze treningowym znaduje się {Xtrain.shape[0]} obserwacji.\")\n",
    "print(f\"[INFO] W zbiorze testowym znajduje się {Xtest.shape[0]} obserwacji.\")"
   ]
  },
  {
   "cell_type": "code",
   "execution_count": 329,
   "metadata": {},
   "outputs": [
    {
     "name": "stdout",
     "output_type": "stream",
     "text": [
      "Skuteczność treningowa modelu: 80.0000%\n",
      "Skuteczność testowa modelu: 79.6610%\n"
     ]
    }
   ],
   "source": [
    "clf = LogisticRegression().fit(Xtrain, ytrain)\n",
    "print(f\"Skuteczność treningowa modelu: {clf.score(Xtrain, ytrain):.4%}\")\n",
    "print(f\"Skuteczność testowa modelu: {clf.score(Xtest, ytest):.4%}\")"
   ]
  }
 ],
 "metadata": {
  "kernelspec": {
   "display_name": "Python 3",
   "language": "python",
   "name": "python3"
  },
  "language_info": {
   "codemirror_mode": {
    "name": "ipython",
    "version": 3
   },
   "file_extension": ".py",
   "mimetype": "text/x-python",
   "name": "python",
   "nbconvert_exporter": "python",
   "pygments_lexer": "ipython3",
   "version": "3.11.0"
  }
 },
 "nbformat": 4,
 "nbformat_minor": 2
}
