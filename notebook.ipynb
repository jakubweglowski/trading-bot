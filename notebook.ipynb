{
 "cells": [
  {
   "cell_type": "markdown",
   "metadata": {},
   "source": [
    "### Importy"
   ]
  },
  {
   "cell_type": "code",
   "execution_count": 1,
   "metadata": {},
   "outputs": [],
   "source": [
    "import numpy as np\n",
    "import pandas as pd\n",
    "from datetime import datetime as dt, timedelta as tmd\n",
    "\n",
    "from warnings import filterwarnings\n",
    "filterwarnings('ignore')\n",
    "\n",
    "from importlib import reload\n",
    "import DataLoader.xAPIConnector\n",
    "reload(DataLoader.xAPIConnector)\n",
    "from DataLoader.xAPIConnector import *\n",
    "\n",
    "\n",
    "import DataLoader.DataLoader\n",
    "reload(DataLoader.DataLoader)\n",
    "from DataLoader.DataLoader import *\n",
    "\n",
    "from DataLoader.config import user_id, pwd"
   ]
  },
  {
   "cell_type": "markdown",
   "metadata": {},
   "source": [
    "# Pobieranie danych"
   ]
  },
  {
   "cell_type": "markdown",
   "metadata": {},
   "source": [
    "Należy podać listę symboli, datę, od której chcemy zaciągnąć dane i częstotliwość (teraz '5min'). Można też podać datę 'end', ale domyślnie zaciąga się do chwili obecnej."
   ]
  },
  {
   "cell_type": "code",
   "execution_count": 16,
   "metadata": {},
   "outputs": [
    {
     "name": "stdout",
     "output_type": "stream",
     "text": [
      "[2025-01-14 11:46:43.372569] Loguję do API...\n",
      "\tWysyłam zapytanie do API...\n",
      "\tWysyłam zapytanie do API...\n",
      "[2025-01-14 11:46:50.603566] Wylogowuję z API...\n"
     ]
    }
   ],
   "source": [
    "symbols = ['BITCOIN', 'ETHEREUM']\n",
    "start, interval = '2024-12-01 00:00:00', '5min'\n",
    "\n",
    "dl = DataLoader(user_id, pwd)\n",
    "data = dl.getData(symbols=symbols, start_date=start, interval=interval)"
   ]
  },
  {
   "cell_type": "markdown",
   "metadata": {},
   "source": [
    "Klasyfikatory można budować na mnóstwo różnych sposobów. Ogólnie trzeba się zdecydować, na ilu obserwacjach wstecz ma się opierać klasyfikacja. Liczbę tych obserwacji nazwiemy 'window' i przyjmiemy jako parametr.\n",
    "\n",
    "Pierwszy pomysł to klasyfikacja na podstawie stóp zwrotu, klasy również będziemy budować na podstawie stóp zwrotu. Metoda budowania klas zostanie omówiona dalej."
   ]
  },
  {
   "cell_type": "code",
   "execution_count": 106,
   "metadata": {},
   "outputs": [],
   "source": [
    "window = int(60/int(interval[:-3]))\n",
    "returnsBTC = data.loc[:, 'BITCOIN'].pct_change().dropna()"
   ]
  },
  {
   "cell_type": "code",
   "execution_count": 141,
   "metadata": {},
   "outputs": [],
   "source": [
    "def prepareData(data: pd.Series, window: int, skip: int) -> tuple:   \n",
    "    # można ustawić okna zachodzące (0 < skip < window)\n",
    "    # można ustawić niezachodzące (skip >= window)\n",
    "    assert skip > 0, \"Pętla w kodzie nigdy się nie zakończy...\"\n",
    "    \n",
    "    # Generujemy 'okna'\n",
    "    X = pd.DataFrame(columns=range(window))\n",
    "    \n",
    "    i = len(data)\n",
    "    count = 0\n",
    "    while i >= window:\n",
    "        temp_y = data.iloc[i-window:i]\n",
    "        \n",
    "        X.loc[count, :] = temp_y.values\n",
    "        \n",
    "        i = i - skip    \n",
    "        count += 1\n",
    "        \n",
    "    return np.array(X)"
   ]
  },
  {
   "cell_type": "markdown",
   "metadata": {},
   "source": [
    "# Modele klasyfikacyjne"
   ]
  },
  {
   "cell_type": "code",
   "execution_count": 156,
   "metadata": {},
   "outputs": [],
   "source": [
    "from sklearn.linear_model import LogisticRegression as LogR, LinearRegression as LinR\n",
    "from sklearn.svm import SVC\n",
    "from sklearn.tree import DecisionTreeClassifier as DTC\n",
    "from sklearn.ensemble import GradientBoostingClassifier as GBC"
   ]
  },
  {
   "cell_type": "markdown",
   "metadata": {},
   "source": [
    "### Definiowanie klas"
   ]
  },
  {
   "cell_type": "markdown",
   "metadata": {},
   "source": [
    "Pierwszy pomysł na zdefiniowanie klas to przyjęcie $1$ jeśli stopa zwrotu jest $>$'threshold' oraz $0$ w p.p.\n",
    "\n",
    "Próg odcięcia można podać jako parametr i już po pierwszych testach widać, że dla prostej klasyfikacji typu \"czy zwrot > $0$\" skuteczność jest około $50\\%$. Im wyższy próg, tym lepsza skuteczność."
   ]
  },
  {
   "cell_type": "code",
   "execution_count": 135,
   "metadata": {},
   "outputs": [
    {
     "name": "stdout",
     "output_type": "stream",
     "text": [
      "Klasa 0: 75.0027%\n",
      "Klasa 1: 24.9973%\n"
     ]
    }
   ],
   "source": [
    "skip = 1\n",
    "arr = prepareData(data=returnsBTC, window=window, skip=skip)\n",
    "X = arr[:, :-1]\n",
    "y = arr[:, -1]\n",
    "\n",
    "threshold = np.quantile(y, 0.75)\n",
    "y = (y > threshold)*1.0\n",
    "\n",
    "for i in range(0, 2):\n",
    "    print(f\"Klasa {i}: {np.sum(y == i)/len(y):.4%}\")"
   ]
  },
  {
   "cell_type": "markdown",
   "metadata": {},
   "source": [
    "Teraz podzielimy dane na treningowe i testowe, po czym sprawdzimy jakość predykcji"
   ]
  },
  {
   "cell_type": "code",
   "execution_count": 136,
   "metadata": {},
   "outputs": [
    {
     "name": "stdout",
     "output_type": "stream",
     "text": [
      "[INFO] W zbiorze treningowym znaduje się 6527 obserwacji.\n",
      "[INFO] W zbiorze testowym znajduje się 2798 obserwacji.\n"
     ]
    }
   ],
   "source": [
    "train_test_ratio = 0.7\n",
    "len_train = int(train_test_ratio*X.shape[0])\n",
    "\n",
    "Xtrain = X[:len_train, :]\n",
    "ytrain = y[:len_train]\n",
    "\n",
    "Xtest = X[len_train:, :]\n",
    "ytest = y[len_train:]\n",
    "\n",
    "print(f\"[INFO] W zbiorze treningowym znaduje się {Xtrain.shape[0]} obserwacji.\")\n",
    "print(f\"[INFO] W zbiorze testowym znajduje się {Xtest.shape[0]} obserwacji.\")"
   ]
  },
  {
   "cell_type": "code",
   "execution_count": null,
   "metadata": {},
   "outputs": [
    {
     "name": "stdout",
     "output_type": "stream",
     "text": [
      "[INFO] Regresja logistyczna\n",
      "\tSkuteczność treningowa modelu: 76.3138%\n",
      "\tSkuteczność testowa modelu: 71.9442%\n"
     ]
    }
   ],
   "source": [
    "print(f\"[INFO] Regresja logistyczna\")\n",
    "clf = LogR().fit(Xtrain, ytrain)\n",
    "print(f\"\\tSkuteczność treningowa modelu: {clf.score(Xtrain, ytrain):.4%}\")\n",
    "print(f\"\\tSkuteczność testowa modelu: {clf.score(Xtest, ytest):.4%}\")"
   ]
  },
  {
   "cell_type": "code",
   "execution_count": 138,
   "metadata": {},
   "outputs": [
    {
     "name": "stdout",
     "output_type": "stream",
     "text": [
      "[INFO] Support Vector Machines\n",
      "\tSkuteczność treningowa modelu: 77.9838%\n",
      "\tSkuteczność testowa modelu: 70.8006%\n"
     ]
    }
   ],
   "source": [
    "print(f\"[INFO] Support Vector Machines\")\n",
    "clf = SVC(kernel='poly').fit(Xtrain, ytrain)\n",
    "print(f\"\\tSkuteczność treningowa modelu: {clf.score(Xtrain, ytrain):.4%}\")\n",
    "print(f\"\\tSkuteczność testowa modelu: {clf.score(Xtest, ytest):.4%}\")"
   ]
  },
  {
   "cell_type": "code",
   "execution_count": 139,
   "metadata": {},
   "outputs": [
    {
     "name": "stdout",
     "output_type": "stream",
     "text": [
      "[INFO] Drzewo decyzyjne\n",
      "\tSkuteczność treningowa modelu: 76.6662%\n",
      "\tSkuteczność testowa modelu: 71.8013%\n"
     ]
    }
   ],
   "source": [
    "print(f\"[INFO] Drzewo decyzyjne\")\n",
    "clf = DTC(max_depth=3).fit(Xtrain, ytrain)\n",
    "print(f\"\\tSkuteczność treningowa modelu: {clf.score(Xtrain, ytrain):.4%}\")\n",
    "print(f\"\\tSkuteczność testowa modelu: {clf.score(Xtest, ytest):.4%}\")"
   ]
  },
  {
   "cell_type": "code",
   "execution_count": 140,
   "metadata": {},
   "outputs": [
    {
     "name": "stdout",
     "output_type": "stream",
     "text": [
      "[INFO] Las decyzyjny\n",
      "\tSkuteczność treningowa modelu: 83.9896%\n",
      "\tSkuteczność testowa modelu: 69.0136%\n"
     ]
    }
   ],
   "source": [
    "print(f\"[INFO] Las decyzyjny\")\n",
    "clf = GBC(n_estimators=100, max_depth=5).fit(Xtrain, ytrain)\n",
    "print(f\"\\tSkuteczność treningowa modelu: {clf.score(Xtrain, ytrain):.4%}\")\n",
    "print(f\"\\tSkuteczność testowa modelu: {clf.score(Xtest, ytest):.4%}\")"
   ]
  },
  {
   "cell_type": "markdown",
   "metadata": {},
   "source": [
    "Predykcje uzyskane przy użyciu tych metod tworzenia $y$ dają rezultaty gorsze od naiwnego klasyfikatora przypisującego zawsze $0$."
   ]
  },
  {
   "cell_type": "markdown",
   "metadata": {},
   "source": [
    "# Model na akcjach spółek surowcowych"
   ]
  },
  {
   "cell_type": "markdown",
   "metadata": {},
   "source": [
    "## Strategia trend-following"
   ]
  },
  {
   "cell_type": "code",
   "execution_count": 2,
   "metadata": {},
   "outputs": [],
   "source": [
    "def position(x):\n",
    "    if x[1] == True: return 1\n",
    "    elif x[0] == True and x[1] == False: return -1\n",
    "    elif x[0] == False and x[1] == False: return 0\n",
    "    \n",
    "def EMA(y: pd.Series, alpha: float):\n",
    "    weights = np.array([(1-alpha)**(len(y)-i+1) for i in range(len(y))])\n",
    "    return (y.values).dot(weights)/np.sum(weights)"
   ]
  },
  {
   "cell_type": "code",
   "execution_count": 3,
   "metadata": {},
   "outputs": [],
   "source": [
    "import json\n",
    "\n",
    "with open('spolki.json') as f:\n",
    "    data = json.load(f)"
   ]
  },
  {
   "cell_type": "code",
   "execution_count": 4,
   "metadata": {},
   "outputs": [
    {
     "data": {
      "text/plain": [
       "['NEM.US',\n",
       " 'AU.US',\n",
       " 'RGLD.US',\n",
       " 'CDE.US',\n",
       " 'SA.US',\n",
       " 'CMCL.US',\n",
       " 'IDR.US',\n",
       " 'CTGO.US',\n",
       " 'FTCO.US',\n",
       " 'USAU.US']"
      ]
     },
     "execution_count": 4,
     "metadata": {},
     "output_type": "execute_result"
    }
   ],
   "source": [
    "gold_symbols = [key+'.US' for key in data['gold'].keys()]\n",
    "gold_symbols"
   ]
  },
  {
   "cell_type": "code",
   "execution_count": 5,
   "metadata": {},
   "outputs": [
    {
     "name": "stdout",
     "output_type": "stream",
     "text": [
      "[2025-01-28 11:38:17.463928] Loguję do API...\n",
      "\tWysyłam zapytanie do API...\n",
      "\tWysyłam zapytanie do API...\n",
      "[2025-01-28 11:38:18.163547] Wylogowuję z API...\n",
      "[2025-01-28 11:38:18.345255] Loguję do API...\n",
      "\tWysyłam zapytanie do API...\n",
      "\tWysyłam zapytanie do API...\n",
      "[2025-01-28 11:38:18.894155] Wylogowuję z API...\n",
      "[2025-01-28 11:38:19.011485] Loguję do API...\n",
      "\tWysyłam zapytanie do API...\n",
      "\tWysyłam zapytanie do API...\n",
      "[2025-01-28 11:38:19.676766] Wylogowuję z API...\n",
      "[2025-01-28 11:38:19.777325] Loguję do API...\n",
      "\tWysyłam zapytanie do API...\n",
      "\tWysyłam zapytanie do API...\n",
      "[BŁĄD] Nie pobrano CDE.US\n",
      "[2025-01-28 11:38:20.248875] Loguję do API...\n",
      "\tWysyłam zapytanie do API...\n",
      "\tWysyłam zapytanie do API...\n",
      "[BŁĄD] Nie pobrano SA.US\n",
      "[2025-01-28 11:38:20.827652] Loguję do API...\n",
      "\tWysyłam zapytanie do API...\n",
      "\tWysyłam zapytanie do API...\n",
      "[BŁĄD] Nie pobrano CMCL.US\n",
      "[2025-01-28 11:38:21.310400] Loguję do API...\n",
      "\tWysyłam zapytanie do API...\n",
      "\tWysyłam zapytanie do API...\n",
      "[BŁĄD] Nie pobrano IDR.US\n",
      "[2025-01-28 11:38:21.742809] Loguję do API...\n",
      "\tWysyłam zapytanie do API...\n",
      "\tWysyłam zapytanie do API...\n",
      "[BŁĄD] Nie pobrano CTGO.US\n",
      "[2025-01-28 11:38:22.211800] Loguję do API...\n",
      "\tWysyłam zapytanie do API...\n",
      "\tWysyłam zapytanie do API...\n",
      "[BŁĄD] Nie pobrano FTCO.US\n",
      "[2025-01-28 11:38:22.668205] Loguję do API...\n",
      "\tWysyłam zapytanie do API...\n",
      "\tWysyłam zapytanie do API...\n",
      "[BŁĄD] Nie pobrano USAU.US\n"
     ]
    }
   ],
   "source": [
    "symbols = gold_symbols\n",
    "start, interval = '2020-01-01 00:00:00', '1D'\n",
    "\n",
    "dl = DataLoader(user_id, pwd)\n",
    "data = dl.getData(symbols=symbols, start_date=start, interval=interval)"
   ]
  },
  {
   "cell_type": "code",
   "execution_count": 6,
   "metadata": {},
   "outputs": [
    {
     "data": {
      "text/html": [
       "<div>\n",
       "<style scoped>\n",
       "    .dataframe tbody tr th:only-of-type {\n",
       "        vertical-align: middle;\n",
       "    }\n",
       "\n",
       "    .dataframe tbody tr th {\n",
       "        vertical-align: top;\n",
       "    }\n",
       "\n",
       "    .dataframe thead th {\n",
       "        text-align: right;\n",
       "    }\n",
       "</style>\n",
       "<table border=\"1\" class=\"dataframe\">\n",
       "  <thead>\n",
       "    <tr style=\"text-align: right;\">\n",
       "      <th></th>\n",
       "      <th>NEM.US</th>\n",
       "      <th>AU.US</th>\n",
       "      <th>RGLD.US</th>\n",
       "    </tr>\n",
       "    <tr>\n",
       "      <th>Date</th>\n",
       "      <th></th>\n",
       "      <th></th>\n",
       "      <th></th>\n",
       "    </tr>\n",
       "  </thead>\n",
       "  <tbody>\n",
       "    <tr>\n",
       "      <th>2020-01-02</th>\n",
       "      <td>43.25</td>\n",
       "      <td>22.64</td>\n",
       "      <td>120.80</td>\n",
       "    </tr>\n",
       "    <tr>\n",
       "      <th>2020-01-03</th>\n",
       "      <td>42.73</td>\n",
       "      <td>22.49</td>\n",
       "      <td>119.94</td>\n",
       "    </tr>\n",
       "    <tr>\n",
       "      <th>2020-01-06</th>\n",
       "      <td>43.21</td>\n",
       "      <td>22.62</td>\n",
       "      <td>118.32</td>\n",
       "    </tr>\n",
       "    <tr>\n",
       "      <th>2020-01-07</th>\n",
       "      <td>43.24</td>\n",
       "      <td>22.43</td>\n",
       "      <td>120.01</td>\n",
       "    </tr>\n",
       "    <tr>\n",
       "      <th>2020-01-08</th>\n",
       "      <td>41.98</td>\n",
       "      <td>21.44</td>\n",
       "      <td>111.02</td>\n",
       "    </tr>\n",
       "    <tr>\n",
       "      <th>...</th>\n",
       "      <td>...</td>\n",
       "      <td>...</td>\n",
       "      <td>...</td>\n",
       "    </tr>\n",
       "    <tr>\n",
       "      <th>2025-01-21</th>\n",
       "      <td>42.18</td>\n",
       "      <td>27.83</td>\n",
       "      <td>140.33</td>\n",
       "    </tr>\n",
       "    <tr>\n",
       "      <th>2025-01-22</th>\n",
       "      <td>41.64</td>\n",
       "      <td>27.94</td>\n",
       "      <td>138.37</td>\n",
       "    </tr>\n",
       "    <tr>\n",
       "      <th>2025-01-23</th>\n",
       "      <td>41.70</td>\n",
       "      <td>27.82</td>\n",
       "      <td>138.26</td>\n",
       "    </tr>\n",
       "    <tr>\n",
       "      <th>2025-01-24</th>\n",
       "      <td>41.95</td>\n",
       "      <td>28.13</td>\n",
       "      <td>139.00</td>\n",
       "    </tr>\n",
       "    <tr>\n",
       "      <th>2025-01-27</th>\n",
       "      <td>41.41</td>\n",
       "      <td>27.82</td>\n",
       "      <td>137.68</td>\n",
       "    </tr>\n",
       "  </tbody>\n",
       "</table>\n",
       "<p>1272 rows × 3 columns</p>\n",
       "</div>"
      ],
      "text/plain": [
       "            NEM.US  AU.US  RGLD.US\n",
       "Date                              \n",
       "2020-01-02   43.25  22.64   120.80\n",
       "2020-01-03   42.73  22.49   119.94\n",
       "2020-01-06   43.21  22.62   118.32\n",
       "2020-01-07   43.24  22.43   120.01\n",
       "2020-01-08   41.98  21.44   111.02\n",
       "...            ...    ...      ...\n",
       "2025-01-21   42.18  27.83   140.33\n",
       "2025-01-22   41.64  27.94   138.37\n",
       "2025-01-23   41.70  27.82   138.26\n",
       "2025-01-24   41.95  28.13   139.00\n",
       "2025-01-27   41.41  27.82   137.68\n",
       "\n",
       "[1272 rows x 3 columns]"
      ]
     },
     "execution_count": 6,
     "metadata": {},
     "output_type": "execute_result"
    }
   ],
   "source": [
    "data"
   ]
  },
  {
   "cell_type": "code",
   "execution_count": 75,
   "metadata": {},
   "outputs": [],
   "source": [
    "from scipy.stats import pearsonr\n",
    "def cValue(y: pd.Series):\n",
    "    n = len(y)\n",
    "    c = np.array(range(1, n+1))\n",
    "    corr, p = pearsonr(c, np.array(y.values))\n",
    "    if p > 0.05: corr = 0.0 # korelacja jest pozorna\n",
    "    return corr\n",
    "\n",
    "def RSI(y: pd.Series):\n",
    "    U = y[y>0].sum()\n",
    "    D = -y[y<0].sum()\n",
    "    RS = U/D\n",
    "    rsi = 100-100/(1+RS)\n",
    "    return rsi\n",
    "\n",
    "def RSIPosition(x: pd.Series, decision: str):\n",
    "    if decision == 'buy':\n",
    "        pass\n",
    "    elif decision == 'sell':\n",
    "        pass\n",
    "    elif decision == 'wait':\n",
    "        pass\n",
    "\n",
    "valid_methods = ['ma', 'rsi', 'macd', 'cvalue']\n",
    "def Decision(y: pd.Series,\n",
    "             method: str = 'MACD',\n",
    "             short_window = 12,\n",
    "             long_window = 26,\n",
    "             signal_window = 9):\n",
    "    method=method.lower()\n",
    "    assert method in valid_methods, \"[BŁĄD] Podana metoda nie jest zaimplementowana.\"\n",
    "    \n",
    "    if method == 'ma':\n",
    "        short = y.rolling(short_window).apply(lambda x: EMA(x, 0.1))\n",
    "        long = y.rolling(long_window).apply(lambda x: EMA(x, 0.1))\n",
    "        UpwardTrend = (short > long)\n",
    "        Decision = UpwardTrend.rolling(2).apply(lambda x: position(x))\n",
    "        return Decision\n",
    "    \n",
    "    elif method == 'rsi':\n",
    "        RSIndex = y.diff().rolling(long_window).apply(lambda x: RSI(x))\n",
    "        SellSignal = (RSIndex >= 70)*(-1.0)\n",
    "        BuySignal = (RSIndex <= 30)*(1.0)\n",
    "        WaitSignal = ((RSIndex > 30) & (RSIndex < 70))*(1.0)\n",
    "        return pd.DataFrame([y, RSIndex, SellSignal, BuySignal, WaitSignal])\n",
    "        \n",
    "    elif method == 'macd':\n",
    "        func = lambda x: EMA(x, 0.1)\n",
    "    elif method == 'cvalue':\n",
    "        func = lambda x: cValue(x)\n",
    "        \n",
    "    BaseLine = y.rolling(short_window).apply(func=func) - y.rolling(long_window).apply(func=func)\n",
    "    SignalLine = BaseLine.rolling(signal_window).apply(lambda x: EMA(x, 0.1))\n",
    "    UpwardTrend = BaseLine > SignalLine\n",
    "    Decision = UpwardTrend.rolling(2).apply(lambda x: position(x))\n",
    "    return Decision\n",
    "\n",
    "def MaxReturn(y: pd.Series):\n",
    "     y_ret = y.pct_change()\n",
    "     max_return = (1 + y_ret[y_ret>0]).prod() - 1\n",
    "     return max_return"
   ]
  },
  {
   "cell_type": "code",
   "execution_count": 76,
   "metadata": {},
   "outputs": [
    {
     "data": {
      "text/html": [
       "<div>\n",
       "<style scoped>\n",
       "    .dataframe tbody tr th:only-of-type {\n",
       "        vertical-align: middle;\n",
       "    }\n",
       "\n",
       "    .dataframe tbody tr th {\n",
       "        vertical-align: top;\n",
       "    }\n",
       "\n",
       "    .dataframe thead th {\n",
       "        text-align: right;\n",
       "    }\n",
       "</style>\n",
       "<table border=\"1\" class=\"dataframe\">\n",
       "  <thead>\n",
       "    <tr style=\"text-align: right;\">\n",
       "      <th></th>\n",
       "      <th>NEM.US</th>\n",
       "      <th>AU.US</th>\n",
       "      <th>RGLD.US</th>\n",
       "    </tr>\n",
       "    <tr>\n",
       "      <th>Date</th>\n",
       "      <th></th>\n",
       "      <th></th>\n",
       "      <th></th>\n",
       "    </tr>\n",
       "  </thead>\n",
       "  <tbody>\n",
       "    <tr>\n",
       "      <th>2025-01-21</th>\n",
       "      <td>0.01</td>\n",
       "      <td>0.02</td>\n",
       "      <td>0.01</td>\n",
       "    </tr>\n",
       "    <tr>\n",
       "      <th>2025-01-22</th>\n",
       "      <td>-0.01</td>\n",
       "      <td>0.00</td>\n",
       "      <td>-0.01</td>\n",
       "    </tr>\n",
       "    <tr>\n",
       "      <th>2025-01-23</th>\n",
       "      <td>0.00</td>\n",
       "      <td>-0.00</td>\n",
       "      <td>-0.00</td>\n",
       "    </tr>\n",
       "    <tr>\n",
       "      <th>2025-01-24</th>\n",
       "      <td>0.01</td>\n",
       "      <td>0.01</td>\n",
       "      <td>0.01</td>\n",
       "    </tr>\n",
       "    <tr>\n",
       "      <th>2025-01-27</th>\n",
       "      <td>-0.01</td>\n",
       "      <td>-0.01</td>\n",
       "      <td>-0.01</td>\n",
       "    </tr>\n",
       "  </tbody>\n",
       "</table>\n",
       "</div>"
      ],
      "text/plain": [
       "            NEM.US  AU.US  RGLD.US\n",
       "Date                              \n",
       "2025-01-21    0.01   0.02     0.01\n",
       "2025-01-22   -0.01   0.00    -0.01\n",
       "2025-01-23    0.00  -0.00    -0.00\n",
       "2025-01-24    0.01   0.01     0.01\n",
       "2025-01-27   -0.01  -0.01    -0.01"
      ]
     },
     "execution_count": 76,
     "metadata": {},
     "output_type": "execute_result"
    }
   ],
   "source": [
    "Returns = data.pct_change()\n",
    "Returns.tail()"
   ]
  },
  {
   "cell_type": "code",
   "execution_count": 77,
   "metadata": {},
   "outputs": [
    {
     "data": {
      "text/html": [
       "<div>\n",
       "<style scoped>\n",
       "    .dataframe tbody tr th:only-of-type {\n",
       "        vertical-align: middle;\n",
       "    }\n",
       "\n",
       "    .dataframe tbody tr th {\n",
       "        vertical-align: top;\n",
       "    }\n",
       "\n",
       "    .dataframe thead th {\n",
       "        text-align: right;\n",
       "    }\n",
       "</style>\n",
       "<table border=\"1\" class=\"dataframe\">\n",
       "  <thead>\n",
       "    <tr style=\"text-align: right;\">\n",
       "      <th></th>\n",
       "      <th>y</th>\n",
       "      <th>RSI</th>\n",
       "      <th>SellSignal</th>\n",
       "      <th>BuySignal</th>\n",
       "      <th>WaitSignal</th>\n",
       "    </tr>\n",
       "    <tr>\n",
       "      <th>Date</th>\n",
       "      <th></th>\n",
       "      <th></th>\n",
       "      <th></th>\n",
       "      <th></th>\n",
       "      <th></th>\n",
       "    </tr>\n",
       "  </thead>\n",
       "  <tbody>\n",
       "    <tr>\n",
       "      <th>2020-02-10</th>\n",
       "      <td>44.21</td>\n",
       "      <td>54.77</td>\n",
       "      <td>-0.00</td>\n",
       "      <td>0.00</td>\n",
       "      <td>1.00</td>\n",
       "    </tr>\n",
       "    <tr>\n",
       "      <th>2020-02-11</th>\n",
       "      <td>44.18</td>\n",
       "      <td>57.58</td>\n",
       "      <td>-0.00</td>\n",
       "      <td>0.00</td>\n",
       "      <td>1.00</td>\n",
       "    </tr>\n",
       "    <tr>\n",
       "      <th>2020-02-12</th>\n",
       "      <td>43.81</td>\n",
       "      <td>53.17</td>\n",
       "      <td>-0.00</td>\n",
       "      <td>0.00</td>\n",
       "      <td>1.00</td>\n",
       "    </tr>\n",
       "    <tr>\n",
       "      <th>2020-02-13</th>\n",
       "      <td>43.95</td>\n",
       "      <td>53.71</td>\n",
       "      <td>-0.00</td>\n",
       "      <td>0.00</td>\n",
       "      <td>1.00</td>\n",
       "    </tr>\n",
       "    <tr>\n",
       "      <th>2020-02-14</th>\n",
       "      <td>43.99</td>\n",
       "      <td>62.04</td>\n",
       "      <td>-0.00</td>\n",
       "      <td>0.00</td>\n",
       "      <td>1.00</td>\n",
       "    </tr>\n",
       "    <tr>\n",
       "      <th>2020-02-18</th>\n",
       "      <td>45.53</td>\n",
       "      <td>71.11</td>\n",
       "      <td>-1.00</td>\n",
       "      <td>0.00</td>\n",
       "      <td>0.00</td>\n",
       "    </tr>\n",
       "    <tr>\n",
       "      <th>2020-02-19</th>\n",
       "      <td>46.03</td>\n",
       "      <td>70.58</td>\n",
       "      <td>-1.00</td>\n",
       "      <td>0.00</td>\n",
       "      <td>0.00</td>\n",
       "    </tr>\n",
       "    <tr>\n",
       "      <th>2020-02-20</th>\n",
       "      <td>48.08</td>\n",
       "      <td>75.20</td>\n",
       "      <td>-1.00</td>\n",
       "      <td>0.00</td>\n",
       "      <td>0.00</td>\n",
       "    </tr>\n",
       "    <tr>\n",
       "      <th>2020-02-21</th>\n",
       "      <td>49.47</td>\n",
       "      <td>77.89</td>\n",
       "      <td>-1.00</td>\n",
       "      <td>0.00</td>\n",
       "      <td>0.00</td>\n",
       "    </tr>\n",
       "    <tr>\n",
       "      <th>2020-02-24</th>\n",
       "      <td>50.31</td>\n",
       "      <td>78.00</td>\n",
       "      <td>-1.00</td>\n",
       "      <td>0.00</td>\n",
       "      <td>0.00</td>\n",
       "    </tr>\n",
       "    <tr>\n",
       "      <th>2020-02-25</th>\n",
       "      <td>49.29</td>\n",
       "      <td>71.42</td>\n",
       "      <td>-1.00</td>\n",
       "      <td>0.00</td>\n",
       "      <td>0.00</td>\n",
       "    </tr>\n",
       "    <tr>\n",
       "      <th>2020-02-26</th>\n",
       "      <td>49.44</td>\n",
       "      <td>71.66</td>\n",
       "      <td>-1.00</td>\n",
       "      <td>0.00</td>\n",
       "      <td>0.00</td>\n",
       "    </tr>\n",
       "    <tr>\n",
       "      <th>2020-02-27</th>\n",
       "      <td>46.72</td>\n",
       "      <td>59.74</td>\n",
       "      <td>-0.00</td>\n",
       "      <td>0.00</td>\n",
       "      <td>1.00</td>\n",
       "    </tr>\n",
       "    <tr>\n",
       "      <th>2020-02-28</th>\n",
       "      <td>44.18</td>\n",
       "      <td>51.49</td>\n",
       "      <td>-0.00</td>\n",
       "      <td>0.00</td>\n",
       "      <td>1.00</td>\n",
       "    </tr>\n",
       "    <tr>\n",
       "      <th>2020-03-02</th>\n",
       "      <td>46.22</td>\n",
       "      <td>56.47</td>\n",
       "      <td>-0.00</td>\n",
       "      <td>0.00</td>\n",
       "      <td>1.00</td>\n",
       "    </tr>\n",
       "    <tr>\n",
       "      <th>2020-03-03</th>\n",
       "      <td>49.79</td>\n",
       "      <td>62.10</td>\n",
       "      <td>-0.00</td>\n",
       "      <td>0.00</td>\n",
       "      <td>1.00</td>\n",
       "    </tr>\n",
       "    <tr>\n",
       "      <th>2020-03-04</th>\n",
       "      <td>50.73</td>\n",
       "      <td>63.09</td>\n",
       "      <td>-0.00</td>\n",
       "      <td>0.00</td>\n",
       "      <td>1.00</td>\n",
       "    </tr>\n",
       "    <tr>\n",
       "      <th>2020-03-05</th>\n",
       "      <td>51.98</td>\n",
       "      <td>65.33</td>\n",
       "      <td>-0.00</td>\n",
       "      <td>0.00</td>\n",
       "      <td>1.00</td>\n",
       "    </tr>\n",
       "    <tr>\n",
       "      <th>2020-03-06</th>\n",
       "      <td>51.51</td>\n",
       "      <td>63.78</td>\n",
       "      <td>-0.00</td>\n",
       "      <td>0.00</td>\n",
       "      <td>1.00</td>\n",
       "    </tr>\n",
       "    <tr>\n",
       "      <th>2020-03-09</th>\n",
       "      <td>48.43</td>\n",
       "      <td>56.35</td>\n",
       "      <td>-0.00</td>\n",
       "      <td>0.00</td>\n",
       "      <td>1.00</td>\n",
       "    </tr>\n",
       "  </tbody>\n",
       "</table>\n",
       "</div>"
      ],
      "text/plain": [
       "               y   RSI  SellSignal  BuySignal  WaitSignal\n",
       "Date                                                     \n",
       "2020-02-10 44.21 54.77       -0.00       0.00        1.00\n",
       "2020-02-11 44.18 57.58       -0.00       0.00        1.00\n",
       "2020-02-12 43.81 53.17       -0.00       0.00        1.00\n",
       "2020-02-13 43.95 53.71       -0.00       0.00        1.00\n",
       "2020-02-14 43.99 62.04       -0.00       0.00        1.00\n",
       "2020-02-18 45.53 71.11       -1.00       0.00        0.00\n",
       "2020-02-19 46.03 70.58       -1.00       0.00        0.00\n",
       "2020-02-20 48.08 75.20       -1.00       0.00        0.00\n",
       "2020-02-21 49.47 77.89       -1.00       0.00        0.00\n",
       "2020-02-24 50.31 78.00       -1.00       0.00        0.00\n",
       "2020-02-25 49.29 71.42       -1.00       0.00        0.00\n",
       "2020-02-26 49.44 71.66       -1.00       0.00        0.00\n",
       "2020-02-27 46.72 59.74       -0.00       0.00        1.00\n",
       "2020-02-28 44.18 51.49       -0.00       0.00        1.00\n",
       "2020-03-02 46.22 56.47       -0.00       0.00        1.00\n",
       "2020-03-03 49.79 62.10       -0.00       0.00        1.00\n",
       "2020-03-04 50.73 63.09       -0.00       0.00        1.00\n",
       "2020-03-05 51.98 65.33       -0.00       0.00        1.00\n",
       "2020-03-06 51.51 63.78       -0.00       0.00        1.00\n",
       "2020-03-09 48.43 56.35       -0.00       0.00        1.00"
      ]
     },
     "execution_count": 77,
     "metadata": {},
     "output_type": "execute_result"
    }
   ],
   "source": [
    "y = data['NEM.US']\n",
    "temp_df = Decision(y, method='rsi').T\n",
    "temp_df.columns = ['y', 'RSI', 'SellSignal', 'BuySignal', 'WaitSignal']\n",
    "temp_df = temp_df.dropna()\n",
    "temp_df.head(20)"
   ]
  },
  {
   "cell_type": "code",
   "execution_count": 51,
   "metadata": {},
   "outputs": [
    {
     "data": {
      "text/plain": [
       "NEM.US      37045.10\n",
       "AU.US     2655583.86\n",
       "RGLD.US     18011.45\n",
       "Name: MaxReturn, dtype: float64"
      ]
     },
     "execution_count": 51,
     "metadata": {},
     "output_type": "execute_result"
    }
   ],
   "source": [
    "MaxReturn = data.apply(lambda y: MaxReturn(y))\n",
    "MaxReturn.name = 'MaxReturn'\n",
    "MaxReturn"
   ]
  },
  {
   "cell_type": "code",
   "execution_count": 52,
   "metadata": {},
   "outputs": [
    {
     "data": {
      "text/plain": [
       "NEM.US    1.04\n",
       "AU.US     1.07\n",
       "RGLD.US   1.75\n",
       "Name: MAReturn, dtype: float64"
      ]
     },
     "execution_count": 52,
     "metadata": {},
     "output_type": "execute_result"
    }
   ],
   "source": [
    "MADecision = data.apply(lambda y: Decision(y, method='ma', short_window=10, long_window=22))\n",
    "MAReturn = (1 + Returns[MADecision == 1.0]).prod() - 1\n",
    "MAReturn.name = 'MAReturn'\n",
    "MAReturn"
   ]
  },
  {
   "cell_type": "code",
   "execution_count": 53,
   "metadata": {},
   "outputs": [
    {
     "data": {
      "text/plain": [
       "NEM.US    1.62\n",
       "AU.US     3.64\n",
       "RGLD.US   2.10\n",
       "Name: MACDReturn, dtype: float64"
      ]
     },
     "execution_count": 53,
     "metadata": {},
     "output_type": "execute_result"
    }
   ],
   "source": [
    "MACDDecision = data.apply(lambda y: Decision(y, method='macd', short_window=12, long_window=26))\n",
    "MACDReturn = (1 + Returns[MACDDecision == 1.0]).prod() - 1\n",
    "MACDReturn.name = 'MACDReturn'\n",
    "MACDReturn"
   ]
  },
  {
   "cell_type": "code",
   "execution_count": 38,
   "metadata": {},
   "outputs": [
    {
     "data": {
      "text/plain": [
       "NEM.US     1.792647\n",
       "AU.US      5.980835\n",
       "RGLD.US    2.104736\n",
       "Name: cValueReturn, dtype: float64"
      ]
     },
     "execution_count": 38,
     "metadata": {},
     "output_type": "execute_result"
    }
   ],
   "source": [
    "cValueDecision = data.apply(lambda y: Decision(y, method='cvalue', short_window=12, long_window=26))\n",
    "cValueReturn = (1 + Returns[cValueDecision == 1.0]).prod() - 1\n",
    "cValueReturn.name = 'cValueReturn'\n",
    "cValueReturn"
   ]
  },
  {
   "cell_type": "code",
   "execution_count": 46,
   "metadata": {},
   "outputs": [
    {
     "data": {
      "text/html": [
       "<div>\n",
       "<style scoped>\n",
       "    .dataframe tbody tr th:only-of-type {\n",
       "        vertical-align: middle;\n",
       "    }\n",
       "\n",
       "    .dataframe tbody tr th {\n",
       "        vertical-align: top;\n",
       "    }\n",
       "\n",
       "    .dataframe thead th {\n",
       "        text-align: right;\n",
       "    }\n",
       "</style>\n",
       "<table border=\"1\" class=\"dataframe\">\n",
       "  <thead>\n",
       "    <tr style=\"text-align: right;\">\n",
       "      <th></th>\n",
       "      <th>NEM.US</th>\n",
       "      <th>AU.US</th>\n",
       "      <th>RGLD.US</th>\n",
       "    </tr>\n",
       "  </thead>\n",
       "  <tbody>\n",
       "    <tr>\n",
       "      <th>MaxReturn</th>\n",
       "      <td>3704509.90</td>\n",
       "      <td>265558386.05</td>\n",
       "      <td>1801144.66</td>\n",
       "    </tr>\n",
       "    <tr>\n",
       "      <th>MAReturn</th>\n",
       "      <td>103.70</td>\n",
       "      <td>107.14</td>\n",
       "      <td>174.62</td>\n",
       "    </tr>\n",
       "    <tr>\n",
       "      <th>MACDReturn</th>\n",
       "      <td>162.29</td>\n",
       "      <td>363.93</td>\n",
       "      <td>209.84</td>\n",
       "    </tr>\n",
       "    <tr>\n",
       "      <th>cValueReturn</th>\n",
       "      <td>179.26</td>\n",
       "      <td>598.08</td>\n",
       "      <td>210.47</td>\n",
       "    </tr>\n",
       "  </tbody>\n",
       "</table>\n",
       "</div>"
      ],
      "text/plain": [
       "                 NEM.US        AU.US    RGLD.US\n",
       "MaxReturn    3704509.90 265558386.05 1801144.66\n",
       "MAReturn         103.70       107.14     174.62\n",
       "MACDReturn       162.29       363.93     209.84\n",
       "cValueReturn     179.26       598.08     210.47"
      ]
     },
     "execution_count": 46,
     "metadata": {},
     "output_type": "execute_result"
    }
   ],
   "source": [
    "pd.set_option('display.float_format', lambda x: '%.2f' % x)\n",
    "100*pd.DataFrame([MaxReturn, MAReturn, MACDReturn, cValueReturn], dtype=float)"
   ]
  },
  {
   "cell_type": "code",
   "execution_count": 10,
   "metadata": {},
   "outputs": [
    {
     "name": "stdout",
     "output_type": "stream",
     "text": [
      "NEM.US:\n",
      "\tSkumulowany zwrot ze strategii opartej na porównywaniu MA: 103.70%\n",
      "\tSkumulowany zwrot ze strategii opartej na MACD: 162.29%\n",
      "\tSkumulowany zwrot ze strategii opartej na cValue: 179.26%\n",
      "\tSkumulowany zwrot ze strategii połączonej: 184.70%\n",
      "\tSkumulowany maksymalny zwrot: 3704509.90%\n",
      "AU.US:\n",
      "\tSkumulowany zwrot ze strategii opartej na porównywaniu MA: 107.14%\n",
      "\tSkumulowany zwrot ze strategii opartej na MACD: 363.93%\n",
      "\tSkumulowany zwrot ze strategii opartej na cValue: 598.08%\n",
      "\tSkumulowany zwrot ze strategii połączonej: 348.50%\n",
      "\tSkumulowany maksymalny zwrot: 265558386.05%\n",
      "RGLD.US:\n",
      "\tSkumulowany zwrot ze strategii opartej na porównywaniu MA: 174.62%\n",
      "\tSkumulowany zwrot ze strategii opartej na MACD: 209.84%\n",
      "\tSkumulowany zwrot ze strategii opartej na cValue: 210.47%\n",
      "\tSkumulowany zwrot ze strategii połączonej: 168.52%\n",
      "\tSkumulowany maksymalny zwrot: 1801144.66%\n"
     ]
    }
   ],
   "source": [
    "for symbol in data.columns:\n",
    "    y = data.loc[:, symbol]\n",
    "    Returns = y.pct_change()\n",
    "    \n",
    "    MaxReturn = (1 + Returns[Returns>0]).prod() - 1\n",
    "    \n",
    "    # Strategia porównywania MA\n",
    "    MAshort = y.rolling(10).apply(lambda x: EMA(x, 0.1))\n",
    "    MAlong = y.rolling(22).apply(lambda x: EMA(x, 0.1))\n",
    "    MAUpwardTrend = (MAshort > MAlong)\n",
    "    MADecision = MAUpwardTrend.rolling(2).apply(lambda x: position(x))\n",
    "\n",
    "    MAReturn = (1 + Returns[MADecision == 1.0]).prod() - 1\n",
    "    \n",
    "    # Strategia MACD\n",
    "    MACDDecision = data.apply(lambda y: Decision(y, 'MACD'))[symbol]\n",
    "    MACDReturn = (1 + Returns[MACDDecision == 1.0]).prod() - 1\n",
    "    \n",
    "    # Strategia cValue\n",
    "    cValueDecision = data.apply(lambda y: Decision(y, 'cValue'))[symbol]\n",
    "    cValueReturn = (1 + Returns[cValueDecision == 1.0]).prod() - 1\n",
    "    \n",
    "    # Strategia łączona\n",
    "    CombinedDecision = (cValueDecision == 1.0) & (MACDDecision == 1.0)\n",
    "    CombinedReturn = (1 + Returns[CombinedDecision == 1.0]).prod() - 1\n",
    "    \n",
    "    # Podsumowanie\n",
    "    print(f\"{symbol}:\\n\\tSkumulowany zwrot ze strategii opartej na porównywaniu MA: {MAReturn:.2%}\")\n",
    "    print(f\"\\tSkumulowany zwrot ze strategii opartej na MACD: {MACDReturn:.2%}\")\n",
    "    print(f\"\\tSkumulowany zwrot ze strategii opartej na cValue: {cValueReturn:.2%}\")\n",
    "    print(f\"\\tSkumulowany zwrot ze strategii połączonej: {CombinedReturn:.2%}\")\n",
    "    print(f\"\\tSkumulowany maksymalny zwrot: {MaxReturn:.2%}\")"
   ]
  }
 ],
 "metadata": {
  "kernelspec": {
   "display_name": "Python 3",
   "language": "python",
   "name": "python3"
  },
  "language_info": {
   "codemirror_mode": {
    "name": "ipython",
    "version": 3
   },
   "file_extension": ".py",
   "mimetype": "text/x-python",
   "name": "python",
   "nbconvert_exporter": "python",
   "pygments_lexer": "ipython3",
   "version": "3.11.0"
  }
 },
 "nbformat": 4,
 "nbformat_minor": 2
}
