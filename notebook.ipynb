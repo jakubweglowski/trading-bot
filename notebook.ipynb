{
 "cells": [
  {
   "cell_type": "code",
   "execution_count": 142,
   "metadata": {},
   "outputs": [],
   "source": [
    "import numpy as np\n",
    "import pandas as pd\n",
    "from datetime import datetime as dt\n",
    "from warnings import filterwarnings\n",
    "filterwarnings('ignore')\n",
    "\n",
    "import yfinance as yf"
   ]
  },
  {
   "cell_type": "code",
   "execution_count": 149,
   "metadata": {},
   "outputs": [
    {
     "data": {
      "text/plain": [
       "Datetime\n",
       "2024-12-11 09:30:00-05:00    43.849998\n",
       "2024-12-11 09:35:00-05:00    43.840000\n",
       "2024-12-11 09:40:00-05:00    43.939899\n",
       "2024-12-11 09:45:00-05:00    44.056198\n",
       "2024-12-11 09:50:00-05:00    44.099998\n",
       "                               ...    \n",
       "2025-01-10 15:35:00-05:00    41.977001\n",
       "2025-01-10 15:40:00-05:00    42.000099\n",
       "2025-01-10 15:45:00-05:00    41.985001\n",
       "2025-01-10 15:50:00-05:00    42.097900\n",
       "2025-01-10 15:55:00-05:00    41.970001\n",
       "Name: Close, Length: 1522, dtype: float64"
      ]
     },
     "execution_count": 149,
     "metadata": {},
     "output_type": "execute_result"
    }
   ],
   "source": [
    "dat = yf.Ticker(\"BTC\")\n",
    "prices = dat.history(interval='5m')['Close']\n",
    "prices"
   ]
  },
  {
   "cell_type": "markdown",
   "metadata": {},
   "source": [
    "# Klasyfikacja"
   ]
  },
  {
   "cell_type": "markdown",
   "metadata": {},
   "source": [
    "Klasyfikatory można budować na mnóstwo różnych sposobów. Ogólnie trzeba się zdecydować, na ilu obserwacjach wstecz ma się opierać klasyfikacja. Liczbę tych obserwacji nazwiemy 'window' i przyjmiemy jako parametr.\n",
    "\n",
    "Na razie ustawiamy klasyfikację na podstawie poprzednich 4 godzin."
   ]
  },
  {
   "cell_type": "code",
   "execution_count": 150,
   "metadata": {},
   "outputs": [
    {
     "data": {
      "text/plain": [
       "12"
      ]
     },
     "execution_count": 150,
     "metadata": {},
     "output_type": "execute_result"
    }
   ],
   "source": [
    "interval = '5m' # dane 5-minutowe\n",
    "window = int(60/int(interval[:-1]))\n",
    "window"
   ]
  },
  {
   "cell_type": "code",
   "execution_count": 151,
   "metadata": {},
   "outputs": [],
   "source": [
    "returns = dat.history(interval=interval)['Close'].pct_change().dropna()"
   ]
  },
  {
   "cell_type": "code",
   "execution_count": 152,
   "metadata": {},
   "outputs": [],
   "source": [
    "# Generujemy 'okna'\n",
    "X = pd.DataFrame(columns=range(window-1))\n",
    "y = pd.Series()\n",
    "\n",
    "# można ustawić okna zachodzące (0 < skip < window)\n",
    "# można ustawić niezachodzące (skip >= window)\n",
    "skip = window\n",
    "assert skip > 0, \"Pętla nigdy się nie zakończy...\"\n",
    "i = len(returns)\n",
    "count = 0\n",
    "while i >= window:\n",
    "    temp_y = returns.iloc[i-window:i]\n",
    "    \n",
    "    X.loc[count, :] = temp_y.iloc[:-1].values\n",
    "    y.loc[count] = temp_y.iloc[-1]\n",
    "    \n",
    "    i = i - skip    \n",
    "    count += 1\n",
    "    \n",
    "X = np.array(X)\n",
    "y = np.array(y)"
   ]
  },
  {
   "cell_type": "code",
   "execution_count": 153,
   "metadata": {},
   "outputs": [
    {
     "data": {
      "text/plain": [
       "array([[-0.0006696030629510519, 0.0006700517316429178,\n",
       "        -0.001419724585345783, ..., 0.0005502535028338862,\n",
       "        -0.000359488955296805, 0.002689050342554955],\n",
       "       [-0.0009510440851470126, -0.003331732225685169,\n",
       "        0.0038204356096334102, ..., -0.0009472156277751109,\n",
       "        -0.00029620641500271994, 0.0010076353635242175],\n",
       "       [-0.0036291929577334514, 0.001062997156390244,\n",
       "        -0.0009438630136665571, ..., -0.000475974715511418,\n",
       "        0.004278546287900031, -0.001178241600122254],\n",
       "       ...,\n",
       "       [0.0001118181841444077, -0.0017884645020370682,\n",
       "        -0.0006741718946101649, ..., 0.0, 0.001354041000547479,\n",
       "        -0.0004507653424643543],\n",
       "       [0.002682739394429312, 0.0011148952833670567,\n",
       "        -0.0026748758269354855, ..., 0.0019645020713576766,\n",
       "        0.0007824692101563446, 0.00033506958232876194],\n",
       "       [0.005066392139026377, -0.0004480036701773882,\n",
       "        -0.00011209386814048372, ..., 0.0011218137178123921,\n",
       "        0.001459023422087924, -0.0005617243263598137]], dtype=object)"
      ]
     },
     "execution_count": 153,
     "metadata": {},
     "output_type": "execute_result"
    }
   ],
   "source": [
    "X"
   ]
  },
  {
   "cell_type": "code",
   "execution_count": 154,
   "metadata": {},
   "outputs": [
    {
     "data": {
      "text/plain": [
       "array([-0.00303814,  0.00094735, -0.00166152,  0.00781074, -0.00240571,\n",
       "       -0.00359888,  0.0031393 , -0.00024026,  0.00095918,  0.00143436,\n",
       "       -0.00247503, -0.00261098, -0.00190245, -0.00303457,  0.        ,\n",
       "       -0.00093329,  0.00101099, -0.00045495, -0.00023275, -0.00337529,\n",
       "       -0.00198143,  0.        ,  0.00033175, -0.00132541,  0.0003298 ,\n",
       "        0.00333551, -0.00183104,  0.00023094,  0.00022904,  0.00052691,\n",
       "        0.00096845,  0.00150382,  0.00256113, -0.00263659, -0.00013866,\n",
       "        0.00046578, -0.00234071,  0.00232407,  0.00234033, -0.00096597,\n",
       "        0.00120104,  0.00024058,  0.00252437, -0.0001191 , -0.00117967,\n",
       "        0.00047227, -0.00309296,  0.00168208, -0.00191154,  0.00233218,\n",
       "        0.0012316 ,  0.00123332,  0.00143647,  0.00095582, -0.00071682,\n",
       "        0.00180139, -0.00035987, -0.00011946,  0.00160524,  0.00118369,\n",
       "        0.00035481,  0.00153244, -0.00187921, -0.00187921,  0.0014108 ,\n",
       "       -0.00010956,  0.00068475, -0.00229707, -0.00162563,  0.00122068,\n",
       "        0.00048369, -0.00302794,  0.00203721, -0.0007308 , -0.00192683,\n",
       "        0.00163553,  0.00173716,  0.00115912, -0.00162525, -0.00625001,\n",
       "        0.00046459, -0.00471144,  0.00730265, -0.002291  , -0.00553893,\n",
       "       -0.0056319 ,  0.00039967, -0.00559409,  0.012861  , -0.0028335 ,\n",
       "        0.00043329,  0.00118385, -0.00108579,  0.00086703, -0.00172967,\n",
       "        0.00095617, -0.00105573, -0.0018864 ,  0.00063026, -0.00273859,\n",
       "       -0.00569261, -0.00360624, -0.00190477, -0.00128408, -0.00089143,\n",
       "       -0.00253852, -0.00421079,  0.00470792,  0.00200223,  0.00029446,\n",
       "       -0.00237605, -0.00111062,  0.00180306,  0.        , -0.00165908,\n",
       "        0.00226857, -0.001328  , -0.00022439, -0.00242881,  0.00130729,\n",
       "        0.00108118,  0.00178138, -0.00089539,  0.00293125, -0.00122823,\n",
       "        0.00156739])"
      ]
     },
     "execution_count": 154,
     "metadata": {},
     "output_type": "execute_result"
    }
   ],
   "source": [
    "np.array(y)"
   ]
  }
 ],
 "metadata": {
  "kernelspec": {
   "display_name": "Python 3",
   "language": "python",
   "name": "python3"
  },
  "language_info": {
   "codemirror_mode": {
    "name": "ipython",
    "version": 3
   },
   "file_extension": ".py",
   "mimetype": "text/x-python",
   "name": "python",
   "nbconvert_exporter": "python",
   "pygments_lexer": "ipython3",
   "version": "3.11.0"
  }
 },
 "nbformat": 4,
 "nbformat_minor": 2
}
