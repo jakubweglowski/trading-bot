{
 "cells": [
  {
   "cell_type": "code",
   "execution_count": 267,
   "metadata": {},
   "outputs": [],
   "source": [
    "import numpy as np\n",
    "import pandas as pd\n",
    "from datetime import datetime as dt, timedelta as tmd\n",
    "from warnings import filterwarnings\n",
    "filterwarnings('ignore')\n",
    "\n",
    "from xAPIConnector.xAPIConnector import *\n",
    "from xAPIConnector.config import user_id, pwd"
   ]
  },
  {
   "cell_type": "code",
   "execution_count": 268,
   "metadata": {},
   "outputs": [],
   "source": [
    "period_dict = {\n",
    "    '1min': 1,\n",
    "    '5min': 5,\n",
    "    '15min': 15,\n",
    "    '30min': 30,\n",
    "    '1h': 60,\n",
    "    '4h': 240,\n",
    "    '1D': 1440,\n",
    "    '1W': 10080,\n",
    "    '1M': 43200\n",
    "}\n",
    "\n",
    "def XTB_to_pandas(response):\n",
    "    data = pd.DataFrame.from_dict(response['returnData']['rateInfos'])\n",
    "    digits = response['returnData']['digits']\n",
    "\n",
    "    data['Date'] = data['ctm'].apply(lambda x: dt.fromtimestamp(x/1000))\n",
    "    data['Price'] = (data['open'] + data['close'])/(10**digits)\n",
    "    data = data.loc[:, ['Date', 'Price']]\n",
    "    data = data.set_index('Date')\n",
    "    data = data.iloc[:, 0]\n",
    "\n",
    "    return data\n",
    "\n",
    "class DataLoader:\n",
    "    def __init__(self, user_id, pwd):\n",
    "        \n",
    "        self.user_id = user_id\n",
    "        self.pwd = pwd\n",
    "        \n",
    "        self.client = None\n",
    "        \n",
    "    def connect(self, verbose: bool = True):    \n",
    "        self.client = APIClient()\n",
    "        if verbose: print(f\"[{dt.now()}] Loguję do API...\")\n",
    "        self.client.execute(loginCommand(self.user_id, self.pwd))\n",
    "    \n",
    "    def disconnect(self, verbose: bool = True):\n",
    "        if verbose: print(f\"[{dt.now()}] Wylogowuję z API...\")\n",
    "        self.client.disconnect()\n",
    "        \n",
    "    def getData(self,\n",
    "                symbols: list[str],\n",
    "                start_date: str,\n",
    "                end_date: str | None = None,\n",
    "                interval: str = '1min',\n",
    "                verbose: bool = True):\n",
    "        \n",
    "        self.connect(verbose)\n",
    "        \n",
    "        finalData = {}\n",
    "        \n",
    "        end_date = (dt.strptime(end_date, '%Y-%m-%d %H:%M:%S') if end_date is not None else dt.now())\n",
    "        endUNIXTIME = int(dt.timestamp(end_date) * 1000)\n",
    "        start_date = dt.strptime(start_date, '%Y-%m-%d %H:%M:%S') + tmd(days=-1)\n",
    "        startUNIXTIME = int(dt.timestamp(start_date) * 1000)\n",
    "        \n",
    "        for symbol in symbols:\n",
    "            args = {'info': {\n",
    "                    'end': endUNIXTIME,\n",
    "                    'start': startUNIXTIME,\n",
    "                    'symbol': symbol,\n",
    "                    'period': period_dict[interval]\n",
    "            }}\n",
    "            if verbose: print(f\"\\tWysyłam zapytanie do API...\", end=' ')\n",
    "            response = self.client.commandExecute('getChartRangeRequest', arguments=args)\n",
    "            print(response)\n",
    "            finalData[symbol] = XTB_to_pandas(response)\n",
    "        \n",
    "        self.disconnect(verbose)\n",
    "        \n",
    "        return pd.DataFrame(finalData)"
   ]
  },
  {
   "cell_type": "code",
   "execution_count": 269,
   "metadata": {},
   "outputs": [],
   "source": [
    "symbols = ['BITCOIN', 'ETHEREUM']\n",
    "start = \"2025-01-08 00:00:00\"\n",
    "end = \"2025-01-09 00:00:00\""
   ]
  },
  {
   "cell_type": "code",
   "execution_count": 270,
   "metadata": {},
   "outputs": [
    {
     "name": "stdout",
     "output_type": "stream",
     "text": [
      "[2025-01-13 11:51:41.823770] Loguję do API...\n",
      "\tWysyłam zapytanie do API... {'status': False, 'errorCode': 'BE103', 'errorDescr': 'Not logged - getChartRangeRequest'}\n"
     ]
    },
    {
     "ename": "KeyError",
     "evalue": "'returnData'",
     "output_type": "error",
     "traceback": [
      "\u001b[1;31m---------------------------------------------------------------------------\u001b[0m",
      "\u001b[1;31mKeyError\u001b[0m                                  Traceback (most recent call last)",
      "Cell \u001b[1;32mIn[270], line 2\u001b[0m\n\u001b[0;32m      1\u001b[0m dl \u001b[38;5;241m=\u001b[39m DataLoader(user_id, pwd)\n\u001b[1;32m----> 2\u001b[0m data \u001b[38;5;241m=\u001b[39m \u001b[43mdl\u001b[49m\u001b[38;5;241;43m.\u001b[39;49m\u001b[43mgetData\u001b[49m\u001b[43m(\u001b[49m\u001b[43msymbols\u001b[49m\u001b[38;5;241;43m=\u001b[39;49m\u001b[43msymbols\u001b[49m\u001b[43m,\u001b[49m\u001b[43m \u001b[49m\u001b[43mstart_date\u001b[49m\u001b[38;5;241;43m=\u001b[39;49m\u001b[43mstart\u001b[49m\u001b[43m,\u001b[49m\u001b[43m \u001b[49m\u001b[43mend_date\u001b[49m\u001b[38;5;241;43m=\u001b[39;49m\u001b[43mend\u001b[49m\u001b[43m)\u001b[49m\n\u001b[0;32m      3\u001b[0m data\n",
      "Cell \u001b[1;32mIn[268], line 68\u001b[0m, in \u001b[0;36mDataLoader.getData\u001b[1;34m(self, symbols, start_date, end_date, interval, verbose)\u001b[0m\n\u001b[0;32m     66\u001b[0m     response \u001b[38;5;241m=\u001b[39m \u001b[38;5;28mself\u001b[39m\u001b[38;5;241m.\u001b[39mclient\u001b[38;5;241m.\u001b[39mcommandExecute(\u001b[38;5;124m'\u001b[39m\u001b[38;5;124mgetChartRangeRequest\u001b[39m\u001b[38;5;124m'\u001b[39m, arguments\u001b[38;5;241m=\u001b[39margs)\n\u001b[0;32m     67\u001b[0m     \u001b[38;5;28mprint\u001b[39m(response)\n\u001b[1;32m---> 68\u001b[0m     finalData[symbol] \u001b[38;5;241m=\u001b[39m \u001b[43mXTB_to_pandas\u001b[49m\u001b[43m(\u001b[49m\u001b[43mresponse\u001b[49m\u001b[43m)\u001b[49m\n\u001b[0;32m     70\u001b[0m \u001b[38;5;28mself\u001b[39m\u001b[38;5;241m.\u001b[39mdisconnect(verbose)\n\u001b[0;32m     72\u001b[0m \u001b[38;5;28;01mreturn\u001b[39;00m pd\u001b[38;5;241m.\u001b[39mDataFrame(finalData)\n",
      "Cell \u001b[1;32mIn[268], line 14\u001b[0m, in \u001b[0;36mXTB_to_pandas\u001b[1;34m(response)\u001b[0m\n\u001b[0;32m     13\u001b[0m \u001b[38;5;28;01mdef\u001b[39;00m \u001b[38;5;21mXTB_to_pandas\u001b[39m(response):\n\u001b[1;32m---> 14\u001b[0m     data \u001b[38;5;241m=\u001b[39m pd\u001b[38;5;241m.\u001b[39mDataFrame\u001b[38;5;241m.\u001b[39mfrom_dict(\u001b[43mresponse\u001b[49m\u001b[43m[\u001b[49m\u001b[38;5;124;43m'\u001b[39;49m\u001b[38;5;124;43mreturnData\u001b[39;49m\u001b[38;5;124;43m'\u001b[39;49m\u001b[43m]\u001b[49m[\u001b[38;5;124m'\u001b[39m\u001b[38;5;124mrateInfos\u001b[39m\u001b[38;5;124m'\u001b[39m])\n\u001b[0;32m     15\u001b[0m     digits \u001b[38;5;241m=\u001b[39m response[\u001b[38;5;124m'\u001b[39m\u001b[38;5;124mreturnData\u001b[39m\u001b[38;5;124m'\u001b[39m][\u001b[38;5;124m'\u001b[39m\u001b[38;5;124mdigits\u001b[39m\u001b[38;5;124m'\u001b[39m]\n\u001b[0;32m     17\u001b[0m     data[\u001b[38;5;124m'\u001b[39m\u001b[38;5;124mDate\u001b[39m\u001b[38;5;124m'\u001b[39m] \u001b[38;5;241m=\u001b[39m data[\u001b[38;5;124m'\u001b[39m\u001b[38;5;124mctm\u001b[39m\u001b[38;5;124m'\u001b[39m]\u001b[38;5;241m.\u001b[39mapply(\u001b[38;5;28;01mlambda\u001b[39;00m x: dt\u001b[38;5;241m.\u001b[39mfromtimestamp(x\u001b[38;5;241m/\u001b[39m\u001b[38;5;241m1000\u001b[39m))\n",
      "\u001b[1;31mKeyError\u001b[0m: 'returnData'"
     ]
    }
   ],
   "source": [
    "dl = DataLoader(user_id, pwd)\n",
    "data = dl.getData(symbols=symbols, start_date=start, end_date=end)\n",
    "data"
   ]
  },
  {
   "cell_type": "markdown",
   "metadata": {},
   "source": [
    "# Klasyfikacja"
   ]
  },
  {
   "cell_type": "markdown",
   "metadata": {},
   "source": [
    "Klasyfikatory można budować na mnóstwo różnych sposobów. Ogólnie trzeba się zdecydować, na ilu obserwacjach wstecz ma się opierać klasyfikacja. Liczbę tych obserwacji nazwiemy 'window' i przyjmiemy jako parametr.\n",
    "\n",
    "Na razie ustawiamy klasyfikację na podstawie poprzednich 4 godzin.\n",
    "\n",
    "Pierwszy pomysł to klasyfikacja na podstawie stóp zwrotu, klasy również będziemy budować na podstawie stóp zwrotu. Metoda budowania klas zostanie omówiona dalej."
   ]
  },
  {
   "cell_type": "code",
   "execution_count": 188,
   "metadata": {},
   "outputs": [],
   "source": [
    "interval = '5m' # dane 5-minutowe\n",
    "returns = prices.pct_change().dropna()\n",
    "\n",
    "window = int(4*60/int(interval[:-1]))"
   ]
  },
  {
   "cell_type": "code",
   "execution_count": 198,
   "metadata": {},
   "outputs": [],
   "source": [
    "def generate_X_y(data: pd.DataFrame | pd.Series, window: int, skip: int) -> tuple:   \n",
    "    # można ustawić okna zachodzące (0 < skip < window)\n",
    "    # można ustawić niezachodzące (skip >= window)\n",
    "    assert skip > 0, \"Pętla w kodzie nigdy się nie zakończy...\"\n",
    "    \n",
    "    # Generujemy 'okna'\n",
    "    X = pd.DataFrame(columns=range(window-1))\n",
    "    y = pd.Series()\n",
    "    \n",
    "    i = len(data)\n",
    "    count = 0\n",
    "    while i >= window:\n",
    "        temp_y = data.iloc[i-window:i]\n",
    "        \n",
    "        X.loc[count, :] = temp_y.iloc[:-1].values\n",
    "        y.loc[count] = temp_y.iloc[-1]\n",
    "        \n",
    "        i = i - skip    \n",
    "        count += 1\n",
    "        \n",
    "    return np.array(X), np.array(y)"
   ]
  },
  {
   "cell_type": "markdown",
   "metadata": {},
   "source": [
    "### Regresja logistyczna"
   ]
  },
  {
   "cell_type": "code",
   "execution_count": 237,
   "metadata": {},
   "outputs": [],
   "source": [
    "from sklearn.linear_model import LogisticRegression\n",
    "# from sklearn.model_selection import LeaveOneOut"
   ]
  },
  {
   "cell_type": "markdown",
   "metadata": {},
   "source": [
    "Pierwszy pomysł na zdefiniowanie klas to przyjęcie '1' jeśli stopa zwrotu jest $>threshold$ oraz '0' w p.p.\n",
    "\n",
    "Próg odcięcia można podać jako parametr i już po pierwszych testach widać, że dla prostej klasyfikacji typu \"czy zwrot > 0\" skuteczność jest około $50\\%$. Im wyższy próg, tym lepsza skuteczność."
   ]
  },
  {
   "cell_type": "code",
   "execution_count": 244,
   "metadata": {},
   "outputs": [
    {
     "name": "stdout",
     "output_type": "stream",
     "text": [
      "Skuteczność treningowa modelu: 87.0968%\n"
     ]
    }
   ],
   "source": [
    "skip = window\n",
    "X, y = generate_X_y(data=returns, window=window, skip=skip)\n",
    "\n",
    "threshold = 0.002\n",
    "y = (np.array(y) > threshold)*1.0\n",
    "\n",
    "clf = LogisticRegression().fit(X, y)\n",
    "print(f\"Skuteczność treningowa modelu: {clf.score(X, y):.4%}\")"
   ]
  },
  {
   "cell_type": "markdown",
   "metadata": {},
   "source": [
    "Teraz podzielimy dane na treningowe i testowe, po czym sprawdzimy jakość predykcji"
   ]
  },
  {
   "cell_type": "code",
   "execution_count": 245,
   "metadata": {},
   "outputs": [
    {
     "name": "stdout",
     "output_type": "stream",
     "text": [
      "[INFO] W zbiorze treningowym znaduje się 21 obserwacji.\n",
      "[INFO] W zbiorze testowym znajduje się 10 obserwacji.\n"
     ]
    }
   ],
   "source": [
    "train_test_ratio = 0.7\n",
    "len_train = int(train_test_ratio*X.shape[0])\n",
    "\n",
    "Xtrain = X[:len_train, :]\n",
    "ytrain = y[:len_train]\n",
    "\n",
    "Xtest = X[len_train:, :]\n",
    "ytest = y[len_train:]\n",
    "\n",
    "print(f\"[INFO] W zbiorze treningowym znaduje się {Xtrain.shape[0]} obserwacji.\")\n",
    "print(f\"[INFO] W zbiorze testowym znajduje się {Xtest.shape[0]} obserwacji.\")"
   ]
  },
  {
   "cell_type": "code",
   "execution_count": 246,
   "metadata": {},
   "outputs": [
    {
     "name": "stdout",
     "output_type": "stream",
     "text": [
      "Skuteczność treningowa modelu: 90.4762%\n",
      "Skuteczność testowa modelu: 80.0000%\n"
     ]
    }
   ],
   "source": [
    "clf = LogisticRegression().fit(Xtrain, ytrain)\n",
    "print(f\"Skuteczność treningowa modelu: {clf.score(Xtrain, ytrain):.4%}\")\n",
    "print(f\"Skuteczność testowa modelu: {clf.score(Xtest, ytest):.4%}\")"
   ]
  }
 ],
 "metadata": {
  "kernelspec": {
   "display_name": "Python 3",
   "language": "python",
   "name": "python3"
  },
  "language_info": {
   "codemirror_mode": {
    "name": "ipython",
    "version": 3
   },
   "file_extension": ".py",
   "mimetype": "text/x-python",
   "name": "python",
   "nbconvert_exporter": "python",
   "pygments_lexer": "ipython3",
   "version": "3.11.0"
  }
 },
 "nbformat": 4,
 "nbformat_minor": 2
}
